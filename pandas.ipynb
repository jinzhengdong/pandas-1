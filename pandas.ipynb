{
 "cells": [
  {
   "cell_type": "markdown",
   "metadata": {},
   "source": [
    "https://www.youtube.com/watch?v=vmEHCJofslg&t=911s\n",
    "\n",
    "15'53\""
   ]
  },
  {
   "cell_type": "code",
   "execution_count": null,
   "metadata": {},
   "outputs": [],
   "source": [
    "import pandas as pd\n",
    "\n",
    "# df = pd.read_csv(\"pokemon_data.csv\")\n",
    "# print(df)\n",
    "# print(df.head(3))\n",
    "# print(df.tail(3))"
   ]
  },
  {
   "cell_type": "code",
   "execution_count": null,
   "metadata": {},
   "outputs": [],
   "source": [
    "import pandas as pd\n",
    "\n",
    "df_xlsx = pd.read_excel(\"pokemon_data.xlsx\")\n",
    "# df_xlsx\n",
    "# print(df.head(3))"
   ]
  },
  {
   "cell_type": "code",
   "execution_count": null,
   "metadata": {},
   "outputs": [],
   "source": [
    "import pandas as pd\n",
    "\n",
    "df = pd.read_csv(\"pokemon_data.txt\", delimiter=\"\\t\")\n",
    "# df\n",
    "# df.head(3)\n",
    "# print(df.columns)\n",
    "# df.Name\n",
    "# df[[\"Name\", \"Type 1\", \"HP\"]]\n",
    "# df.head(4)\n",
    "# df.iloc[1]\n",
    "# df.iloc[0: 4]\n",
    "# df.iloc[2,1]\n",
    "\n",
    "# for index, row in df.iterrows():\n",
    "#     print(index, row)\n",
    "\n",
    "df.loc[df[\"Type 1\"] == \"Grass\"]"
   ]
  },
  {
   "cell_type": "code",
   "execution_count": null,
   "metadata": {},
   "outputs": [],
   "source": []
  }
 ],
 "metadata": {
  "interpreter": {
   "hash": "d80dceb8e76061e928794bb3ce8fa9d0c2b7abe9c550ab61d3fca5a520d3bcb0"
  },
  "kernelspec": {
   "display_name": "Python 3.8.6 64-bit",
   "language": "python",
   "name": "python3"
  },
  "language_info": {
   "codemirror_mode": {
    "name": "ipython",
    "version": 3
   },
   "file_extension": ".py",
   "mimetype": "text/x-python",
   "name": "python",
   "nbconvert_exporter": "python",
   "pygments_lexer": "ipython3",
   "version": "3.8.6"
  },
  "orig_nbformat": 4
 },
 "nbformat": 4,
 "nbformat_minor": 2
}
